{
 "cells": [
  {
   "cell_type": "markdown",
   "metadata": {},
   "source": [
    "### Properties of Matrix Addition and Multiplication\n",
    "\n",
    "A + B = B + A (Commutative) \\\n",
    "(A + B) + C = A + (B + C) (Associative) \\\n",
    "AB ≠ BA (Not Commutative) \\\n",
    "(AB) C = A (BC) (Associative) \\\n",
    "A (B+C) = AB + AC (Distributive)"
   ]
  },
  {
   "cell_type": "code",
   "execution_count": null,
   "metadata": {},
   "outputs": [],
   "source": [
    "A = [[1,2],[4,5]]\n",
    "B = [[2,3],[6,7]]\n",
    "\n",
    "# Addition\n",
    "import numpy as np\n",
    "A = np.array(A) \n",
    "B = np.array(B)\n",
    "Result = A+B\n",
    "print(Result)"
   ]
  },
  {
   "cell_type": "code",
   "execution_count": null,
   "metadata": {},
   "outputs": [],
   "source": [
    "# Define the matrices\n",
    "A = np.array([[2, 3], [6, 7]])\n",
    "B = np.array([[1, 2], [4, 5]])\n",
    "\n",
    "# Perform matrix subtraction\n",
    "Sub = A - B\n",
    "\n",
    "# Print the result\n",
    "print(\"Subtracted Matrix:\")\n",
    "print(Sub)\n"
   ]
  },
  {
   "cell_type": "code",
   "execution_count": null,
   "metadata": {},
   "outputs": [],
   "source": [
    "# Import NumPy\n",
    "import numpy as np\n",
    "\n",
    "# Define the matrices\n",
    "A = np.array([[2, 3], [6, 7]])\n",
    "\n",
    "# Perform Scaler matrix multiplication\n",
    "Mul = np.dot(A, 2)\n",
    "\n",
    "# Print the result\n",
    "print(\"Scaler Multiplied Matrix:\")\n",
    "print(Mul)"
   ]
  },
  {
   "cell_type": "code",
   "execution_count": null,
   "metadata": {},
   "outputs": [],
   "source": [
    "# Import NumPy\n",
    "import numpy as np\n",
    "\n",
    "# Define the matrices\n",
    "A = np.array([[1, 2], [4, 5]])\n",
    "B = np.array([[2, 3], [6, 7]])\n",
    "\n",
    "# Perform Scaler matrix multiplication\n",
    "Mul = np.dot(A, B)\n",
    "\n",
    "# Print the result\n",
    "print(\"Scaler Multiplied Matrix:\")\n",
    "print(Mul)"
   ]
  },
  {
   "cell_type": "markdown",
   "metadata": {},
   "source": [
    "### Transpose of Matrix\n",
    "\n",
    "Properties of the Transpose of a Matrix\n",
    "\n",
    "Properties of the transpose of a matrix are mentioned below:\n",
    "\n",
    "(AT)T = A \\\n",
    "(A+B)T = AT + BT \\\n",
    "(AB)T = BTAT"
   ]
  },
  {
   "cell_type": "code",
   "execution_count": 34,
   "metadata": {},
   "outputs": [
    {
     "name": "stdout",
     "output_type": "stream",
     "text": [
      "[[18 38]\n",
      " [17 47]]\n"
     ]
    }
   ],
   "source": [
    "A = [[18,17],\n",
    "     [38,47]\n",
    "    ]\n",
    "\n",
    "A_ = np.transpose(np.array(A))\n",
    "print(A_)\n"
   ]
  },
  {
   "cell_type": "markdown",
   "metadata": {},
   "source": [
    "## Determinant of Matrix Formula for n * n  Matrix\n",
    "\n",
    "The determinant of an ( n * n ) matrix ( A ) is a scalar value computed using various methods, with the most common approach being the cofactor expansion along any row or column. Here's the general formula for the determinant of an ( n * n ) matrix:\n",
    "\n",
    "Let ( A = [a_{ij}] ) be an ( n * n ) matrix. The determinant ( |A| ) is calculated as:\n",
    "\n",
    "[ |A| = \\sum_{j=1}^{n} (-1)^{i+j} a_{ij} \\det(A_{ij}) ]\n",
    "\n",
    "where ( \\det(A_{ij}) ) denotes the determinant of the ( (n-1) * (n-1) ) matrix obtained by deleting the ( i )-th row and ( j )-th column from ( A ).\n",
    "\n",
    "Alternatively, the determinant can also be computed using cofactor expansion along any column:\n",
    "\n",
    "[ |A| = \\sum_{i=1}^{n} (-1)^{i+j} a_{ij} \\det(A_{ij}) ]\n",
    "\n",
    "In both formulas, ( (-1)^{i+j} ) ensures that the signs alternate as you move across rows or down columns.\n",
    "\n",
    "For a ( 1 * 1 ) matrix, the determinant is simply the single element of the matrix:\n",
    "\n",
    "[ |A| = a_{11} ]\n",
    "\n",
    "For a ( 2 * 2 ) matrix ( A = \\begin{bmatrix} a & b  c & d \\end{bmatrix} ), the determinant is calculated as:\n",
    "\n",
    "[ |A| = ad - bc ]\n",
    "\n",
    "For larger ( n * n ) matrices (( n > 2 )), the determinant involves more complex calculations due to the recursive nature of determinants of smaller submatrices.\n",
    "\n",
    "In practice, the computation of determinants for large matrices is often handled numerically due to the complexity and potential for numerical instability in exact symbolic calculations.\n"
   ]
  },
  {
   "cell_type": "code",
   "execution_count": 35,
   "metadata": {},
   "outputs": [
    {
     "name": "stdout",
     "output_type": "stream",
     "text": [
      "Determinant of A: -4.000000000000001\n"
     ]
    }
   ],
   "source": [
    "# Import NumPy\n",
    "import numpy as np\n",
    "\n",
    "# Define the matrix A\n",
    "A = np.array([[2, 3], [6, 7]])\n",
    "\n",
    "# Calculate determinant of A\n",
    "det_A = np.linalg.det(A)\n",
    "\n",
    "# Print the determinant\n",
    "print(\"Determinant of A:\", det_A)\n"
   ]
  }
 ],
 "metadata": {
  "kernelspec": {
   "display_name": "base",
   "language": "python",
   "name": "python3"
  },
  "language_info": {
   "codemirror_mode": {
    "name": "ipython",
    "version": 3
   },
   "file_extension": ".py",
   "mimetype": "text/x-python",
   "name": "python",
   "nbconvert_exporter": "python",
   "pygments_lexer": "ipython3",
   "version": "3.11.7"
  }
 },
 "nbformat": 4,
 "nbformat_minor": 2
}
