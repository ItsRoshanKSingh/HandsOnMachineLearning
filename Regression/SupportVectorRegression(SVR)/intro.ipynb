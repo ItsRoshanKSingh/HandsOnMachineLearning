{
 "cells": [
  {
   "cell_type": "markdown",
   "metadata": {},
   "source": [
    "## Linear SVR\n",
    "\n",
    "<img src=\"../../Data%20Images/LinearSVR.png\" alt=\"Project Setup\" width=\"850\">"
   ]
  }
 ],
 "metadata": {
  "language_info": {
   "name": "python"
  }
 },
 "nbformat": 4,
 "nbformat_minor": 2
}
