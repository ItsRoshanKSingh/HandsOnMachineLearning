{
 "cells": [
  {
   "cell_type": "markdown",
   "metadata": {},
   "source": [
    "# ML Process\n",
    "- ## Data Preprocessing\n",
    "     - Import Data\n",
    "     - Clean Data\n",
    "     - Split into traning & test sets\n",
    "\n",
    "- ## Modelling\n",
    "     - Build the model\n",
    "     - Train the model\n",
    "     - Make Prediction\n",
    "\n",
    "- ## Evaluation\n",
    "     - Calculate Performance Metric\n",
    "     - Make a verdict\n"
   ]
  },
  {
   "cell_type": "markdown",
   "metadata": {},
   "source": [
    "# Feature Scaling\n",
    "Feature scaling is a technique used in machine learning to normalize the range of independent variables or features of data. In other words, it transforms the data to fit within a particular scale, such as 0 to 1 or -1 to 1. This process is essential for algorithms that are sensitive to the scale of data, such as gradient descent-based methods, K-nearest neighbors (KNN), and support vector machines (SVM).\n",
    "\n",
    "Feature Scaling is Applied only to Column\n",
    "\n",
    "### Types:\n",
    "\n",
    "### Normalization:\n",
    "Subtract the column values by min value and then devide by max and min difference. It will give all the value between [0, 1]\n",
    "```\n",
    "X' = (X - X_min) / (X_max - X_min)\n",
    "```\n",
    "\n",
    "### Standardization:\n",
    "Subtract column value by mean(µ) and then devide by standard deviation (σ). This will result in between [-3, +3]\n",
    "\n",
    "```X' = (X - µ) / σ``` \n",
    "\n",
    "#### Next => When to use Normalization and when Standardization ?\n",
    "\n",
    "\n",
    "### How to Do it:\n",
    "- >plit the Dataset: split your dataset into training and test sets\n",
    "- >Fit the Scaler on the Training Set: Initialize the scaler (e.g., StandardScaler, MinMaxScaler) and fit it on the training data. This means calculating the mean, standard deviation, min, max, etc., based only on the training data.\n",
    "- >Transform Both Training and Test Sets: Use the fitted scaler to transform the training data. This scales the training data based on the statistics calculated from the training data itself. Use the same fitted scaler to transform the test data"
   ]
  }
 ],
 "metadata": {
  "language_info": {
   "name": "python"
  }
 },
 "nbformat": 4,
 "nbformat_minor": 2
}
